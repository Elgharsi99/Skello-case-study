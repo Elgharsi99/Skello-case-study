{
  "nbformat": 4,
  "nbformat_minor": 0,
  "metadata": {
    "colab": {
      "provenance": []
    },
    "kernelspec": {
      "name": "python3",
      "display_name": "Python 3"
    },
    "language_info": {
      "name": "python"
    }
  },
  "cells": [
    {
      "cell_type": "code",
      "execution_count": 7,
      "metadata": {
        "colab": {
          "base_uri": "https://localhost:8080/"
        },
        "id": "Qbd5qVX6XbjQ",
        "outputId": "c7417d07-27ac-4393-aa07-b24f6a2ed622"
      },
      "outputs": [
        {
          "output_type": "stream",
          "name": "stderr",
          "text": [
            "<ipython-input-7-723a50363b00>:4: DtypeWarning: Columns (7) have mixed types. Specify dtype option on import or set low_memory=False.\n",
            "  conversation_parts = pd.read_csv(\"/content/CONVERSATION_PARTS.csv\")\n"
          ]
        },
        {
          "output_type": "stream",
          "name": "stdout",
          "text": [
            "  ASSIGNED_TO ATTACHMENTS                                             AUTHOR  \\\n",
            "0         NaN          []  {\\n  \"id\": \"5ebba13923665421f7051ae0\",\\n  \"typ...   \n",
            "1         NaN          []        {\\n  \"id\": \"5217337\",\\n  \"type\": \"admin\"\\n}   \n",
            "2         NaN          []           {\\n  \"id\": \"775489\",\\n  \"type\": \"bot\"\\n}   \n",
            "3         NaN          []        {\\n  \"id\": \"5217337\",\\n  \"type\": \"admin\"\\n}   \n",
            "4         NaN          []        {\\n  \"id\": \"5217337\",\\n  \"type\": \"admin\"\\n}   \n",
            "\n",
            "     CONVERSATION_CREATED_AT  CONVERSATION_ID    CONVERSATION_UPDATED_AT  \\\n",
            "0  2022-01-31 14:02:02.000 Z   53815801349742  2022-03-09 10:10:18.000 Z   \n",
            "1  2022-01-31 14:02:02.000 Z   53815801349742  2022-03-09 10:10:18.000 Z   \n",
            "2  2022-01-31 14:02:02.000 Z   53815801349742  2022-03-09 10:10:18.000 Z   \n",
            "3  2022-01-31 14:02:02.000 Z   53815801349742  2022-03-09 10:10:18.000 Z   \n",
            "4  2022-01-31 14:02:02.000 Z   53815801349742  2022-03-09 10:10:18.000 Z   \n",
            "\n",
            "                  CREATED_AT           ID                NOTIFIED_AT  \\\n",
            "0  2022-01-31 14:06:26.000 Z  13007180139  2022-01-31 14:06:26.000 Z   \n",
            "1  2022-01-31 14:04:07.000 Z  13007122771  2022-01-31 14:04:07.000 Z   \n",
            "2  2022-01-31 16:08:44.000 Z  13009945647  2022-01-31 16:08:44.000 Z   \n",
            "3  2022-01-31 15:15:22.000 Z  13008753050  2022-01-31 15:15:22.000 Z   \n",
            "4  2022-01-31 16:08:30.000 Z  13009940447  2022-01-31 16:08:30.000 Z   \n",
            "\n",
            "  PART_GROUP               TYPE                 UPDATED_AT  \\\n",
            "0    Message  conversation_part  2022-01-31 14:06:26.000 Z   \n",
            "1    Message  conversation_part  2022-01-31 14:04:07.000 Z   \n",
            "2    Message  conversation_part  2022-01-31 16:08:44.000 Z   \n",
            "3    Message  conversation_part  2022-01-31 15:15:22.000 Z   \n",
            "4      Close  conversation_part  2022-01-31 16:08:30.000 Z   \n",
            "\n",
            "             _SDC_BATCHED_AT          _SDC_EXTRACTED_AT  \\\n",
            "0  2022-03-10 04:46:58.139 Z  2022-03-10 04:34:45.315 Z   \n",
            "1  2022-03-10 04:46:58.139 Z  2022-03-10 04:34:45.315 Z   \n",
            "2  2022-03-10 04:46:58.140 Z  2022-03-10 04:34:45.317 Z   \n",
            "3  2022-03-10 04:46:58.139 Z  2022-03-10 04:34:45.316 Z   \n",
            "4  2022-03-10 04:46:58.140 Z  2022-03-10 04:34:45.317 Z   \n",
            "\n",
            "            _SDC_RECEIVED_AT        _SDC_SEQUENCE  _SDC_TABLE_VERSION  \n",
            "0  2022-03-10 04:36:22.226 Z  1646886928349185391                   0  \n",
            "1  2022-03-10 04:36:22.226 Z  1646886928349163389                   0  \n",
            "2  2022-03-10 04:36:22.226 Z  1646886928349310402                   0  \n",
            "3  2022-03-10 04:36:22.226 Z  1646886928349253397                   0  \n",
            "4  2022-03-10 04:36:22.226 Z  1646886928349298401                   0  \n",
            "                                 CONVERSATION_RATING  \\\n",
            "0  {\\n  \"created_at\": \"2022-01-25T14:02:49Z\",\\n  ...   \n",
            "1  {\\n  \"created_at\": \"2022-01-27T14:53:51Z\",\\n  ...   \n",
            "2  {\\n  \"created_at\": \"2021-11-22T12:32:19Z\",\\n  ...   \n",
            "3  {\\n  \"created_at\": \"2022-01-06T19:33:05Z\",\\n  ...   \n",
            "4  {\\n  \"created_at\": \"2021-11-09T10:46:56Z\",\\n  ...   \n",
            "\n",
            "                  CREATED_AT            ID   OPEN      PRIORITY  READ   STATE  \\\n",
            "0  2022-01-25 13:42:18.000 Z  5.381580e+13  False  not_priority  True  closed   \n",
            "1  2022-01-27 13:12:24.000 Z  5.381580e+13  False  not_priority  True  closed   \n",
            "2  2021-11-22 12:13:52.000 Z  5.381580e+13  False  not_priority  True  closed   \n",
            "3  2022-01-06 16:40:50.000 Z  5.381580e+13  False  not_priority  True  closed   \n",
            "4  2021-11-09 08:37:01.000 Z  5.381580e+13  False  not_priority  True  closed   \n",
            "\n",
            "                                                TAGS          TYPE  \\\n",
            "0                                                NaN  conversation   \n",
            "1  [\\n  {\\n    \"applied_at\": \"2022-01-27T13:13:39...  conversation   \n",
            "2  [\\n  {\\n    \"applied_at\": \"2021-11-22T12:14:34...  conversation   \n",
            "3  [\\n  {\\n    \"applied_at\": \"2022-01-06T17:14:12...  conversation   \n",
            "4  [\\n  {\\n    \"applied_at\": \"2021-11-09T08:38:05...  conversation   \n",
            "\n",
            "                  UPDATED_AT WAITING_SINCE            _SDC_BATCHED_AT  \\\n",
            "0  2022-02-18 17:54:15.000 Z           NaN  2022-02-19 04:48:59.049 Z   \n",
            "1  2022-02-18 17:54:22.000 Z           NaN  2022-02-19 04:48:59.064 Z   \n",
            "2  2022-02-18 17:53:49.000 Z           NaN  2022-02-19 04:48:58.950 Z   \n",
            "3  2022-02-18 17:54:11.000 Z           NaN  2022-02-19 04:48:58.961 Z   \n",
            "4  2022-02-18 17:53:26.000 Z           NaN  2022-02-19 04:48:58.937 Z   \n",
            "\n",
            "           _SDC_EXTRACTED_AT           _SDC_RECEIVED_AT        _SDC_SEQUENCE  \\\n",
            "0  2022-02-19 04:40:00.973 Z  2022-02-19 04:40:44.204 Z  1645245601072885813   \n",
            "1  2022-02-19 04:40:01.005 Z  2022-02-19 04:40:44.204 Z  1645245601073178836   \n",
            "2  2022-02-19 04:39:55.033 Z  2022-02-19 04:40:44.204 Z  1645245601071899735   \n",
            "3  2022-02-19 04:40:00.954 Z  2022-02-19 04:40:44.204 Z  1645245601072707799   \n",
            "4  2022-02-19 04:39:54.974 Z  2022-02-19 04:40:44.204 Z  1645245601070784660   \n",
            "\n",
            "   _SDC_TABLE_VERSION                                     ASSIGNEE  \\\n",
            "0                   0  {\\n  \"id\": \"5217337\",\\n  \"type\": \"admin\"\\n}   \n",
            "1                   0  {\\n  \"id\": \"5217337\",\\n  \"type\": \"admin\"\\n}   \n",
            "2                   0  {\\n  \"id\": \"5217337\",\\n  \"type\": \"admin\"\\n}   \n",
            "3                   0  {\\n  \"id\": \"5217337\",\\n  \"type\": \"admin\"\\n}   \n",
            "4                   0  {\\n  \"id\": \"5217337\",\\n  \"type\": \"admin\"\\n}   \n",
            "\n",
            "   SNOOZED_UNTIL  \n",
            "0            NaN  \n",
            "1            NaN  \n",
            "2            NaN  \n",
            "3            NaN  \n",
            "4            NaN  \n"
          ]
        }
      ],
      "source": [
        "import pandas as pd\n",
        "\n",
        "\n",
        "conversation_parts = pd.read_csv(\"/content/CONVERSATION_PARTS.csv\")\n",
        "conversations = pd.read_csv(\"/content/CONVERSATIONS.csv\")\n",
        "\n",
        "# Afficher les premières lignes\n",
        "print(conversation_parts.head())\n",
        "print(conversations.head())"
      ]
    },
    {
      "cell_type": "code",
      "source": [
        "import pandas as pd\n",
        "import json\n",
        "\n",
        "def safe_json_loads(x):\n",
        "    if pd.isna(x) or x.strip() == '':\n",
        "        return {}\n",
        "    try:\n",
        "        return json.loads(x.replace('\"\"', '\"'))\n",
        "    except Exception:\n",
        "        return {}\n",
        "\n",
        "# 1. Charger le CSV\n",
        "df = pd.read_csv('/content/CONVERSATIONS.csv')\n",
        "\n",
        "# 2. Parser la colonne CONVERSATION_RATING\n",
        "conversation_rating = df['CONVERSATION_RATING'].apply(safe_json_loads)\n",
        "\n",
        "df['rating'] = conversation_rating.apply(lambda x: x.get('rating'))\n",
        "df['remark'] = conversation_rating.apply(lambda x: x.get('remark'))\n",
        "df['teammate_id'] = conversation_rating.apply(lambda x: x.get('teammate', {}).get('id'))\n",
        "df['teammate_type'] = conversation_rating.apply(lambda x: x.get('teammate', {}).get('type'))\n",
        "\n",
        "# 3. Parser la colonne ASSIGNEE\n",
        "assignee = df['ASSIGNEE'].apply(safe_json_loads)\n",
        "df['assignee_id'] = assignee.apply(lambda x: x.get('id'))\n",
        "df['assignee_type'] = assignee.apply(lambda x: x.get('type'))\n",
        "\n",
        "# 4. Parser la colonne TAGS (qui est une liste)\n",
        "tags = df['TAGS'].apply(safe_json_loads)\n",
        "\n",
        "def extract_tag_names(tag_list):\n",
        "    if isinstance(tag_list, list):\n",
        "        return [tag.get('name') for tag in tag_list if 'name' in tag]\n",
        "    return []\n",
        "\n",
        "df['tags_list'] = tags.apply(extract_tag_names)\n",
        "df['tags_concat'] = df['tags_list'].apply(lambda tags: \", \".join(tags) if tags else None)\n",
        "\n",
        "# 5. Drop les anciennes colonnes JSON si besoin\n",
        "df_cleaned = df.drop(columns=['CONVERSATION_RATING', 'ASSIGNEE', 'TAGS'])\n",
        "\n",
        "# 6. Sauvegarder dans un nouveau CSV\n",
        "df_cleaned.to_csv('conversations_cleaned.csv', index=False)\n",
        "\n",
        "print(\" Nouveau fichier conversations_cleaned.csv généré.\")\n"
      ],
      "metadata": {
        "colab": {
          "base_uri": "https://localhost:8080/"
        },
        "id": "13hmc77HZMIe",
        "outputId": "712b720a-ec2d-470b-8415-cd3c04be0827"
      },
      "execution_count": 17,
      "outputs": [
        {
          "output_type": "stream",
          "name": "stdout",
          "text": [
            " Nouveau fichier conversations_cleaned.csv généré.\n"
          ]
        }
      ]
    },
    {
      "cell_type": "code",
      "source": [
        "import pandas as pd\n",
        "import json\n",
        "\n",
        "# Charger le fichier CSV\n",
        "conversation_parts = pd.read_csv('/content/CONVERSATION_PARTS.csv')\n",
        "\n",
        "# Fonction pour parser la colonne 'AUTHOR'\n",
        "def parse_author(author):\n",
        "    if pd.isna(author) or author.strip() == '':\n",
        "        return pd.Series({'author_id': None, 'author_type': None})\n",
        "    try:\n",
        "        author_json = json.loads(author)\n",
        "        return pd.Series({\n",
        "            'author_id': author_json.get('id'),\n",
        "            'author_type': author_json.get('type')\n",
        "        })\n",
        "    except json.JSONDecodeError:\n",
        "        print(f\"Erreur JSON pour l'author : {author}\")\n",
        "        return pd.Series({'author_id': None, 'author_type': None})\n",
        "\n",
        "# Appliquer la fonction sur la colonne 'AUTHOR'\n",
        "author_info = conversation_parts['AUTHOR'].apply(parse_author)\n",
        "\n",
        "# Ajouter les nouvelles colonnes au DataFrame\n",
        "conversation_parts = pd.concat([conversation_parts, author_info], axis=1)\n",
        "\n",
        "# (Optionnel) Supprimer la colonne AUTHOR si tu n'en as plus besoin\n",
        "conversation_parts = conversation_parts.drop(columns=['AUTHOR','ATTACHMENTS','ASSIGNED_TO'])\n",
        "\n",
        "# Sauvegarder dans un nouveau CSV\n",
        "conversation_parts.to_csv('conversation_part_clean.csv', index=False)\n",
        "\n",
        "print(\"Fichier conversation_part_clean.csv généré avec succès.\")\n"
      ],
      "metadata": {
        "colab": {
          "base_uri": "https://localhost:8080/"
        },
        "id": "ekdKeMpZhEr_",
        "outputId": "f618211a-eb94-4f7f-9da4-3fe70d5c234f"
      },
      "execution_count": 2,
      "outputs": [
        {
          "output_type": "stream",
          "name": "stderr",
          "text": [
            "<ipython-input-2-5cfe0e635385>:5: DtypeWarning: Columns (7) have mixed types. Specify dtype option on import or set low_memory=False.\n",
            "  conversation_parts = pd.read_csv('/content/CONVERSATION_PARTS.csv')\n"
          ]
        },
        {
          "output_type": "stream",
          "name": "stdout",
          "text": [
            "Fichier conversation_part_clean.csv généré avec succès.\n"
          ]
        }
      ]
    }
  ]
}